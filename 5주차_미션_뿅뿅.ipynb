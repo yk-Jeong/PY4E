{
  "nbformat": 4,
  "nbformat_minor": 0,
  "metadata": {
    "colab": {
      "name": "5주차_미션_뿅뿅.ipynb",
      "provenance": [],
      "collapsed_sections": [],
      "authorship_tag": "ABX9TyPQZ/UmivwSn22tqTuvCeK3",
      "include_colab_link": true
    },
    "kernelspec": {
      "name": "python3",
      "display_name": "Python 3"
    },
    "language_info": {
      "name": "python"
    }
  },
  "cells": [
    {
      "cell_type": "markdown",
      "metadata": {
        "id": "view-in-github",
        "colab_type": "text"
      },
      "source": [
        "<a href=\"https://colab.research.google.com/github/yk-Jeong/PY4E/blob/main/5%EC%A3%BC%EC%B0%A8_%EB%AF%B8%EC%85%98_%EB%BF%85%EB%BF%85.ipynb\" target=\"_parent\"><img src=\"https://colab.research.google.com/assets/colab-badge.svg\" alt=\"Open In Colab\"/></a>"
      ]
    },
    {
      "cell_type": "markdown",
      "source": [
        "##5주차 미션: 8조\n",
        "\n",
        "**참여자**: 이온 뿅뿅 citrus rydus"
      ],
      "metadata": {
        "id": "EFWjK0z26Jhg"
      }
    },
    {
      "cell_type": "markdown",
      "source": [
        "####Q1. 배스킨라빈스 31 게임 함수로 만들기\n",
        "- 조건 1: 나의 턴에서는 숫자를 직접 입력하며 한 번 입력 후에 space 한 번으로 구분\n",
        "- 조건 2: 나와 컴퓨터 모두 한 턴에 1회 ~ 3회까지만 숫자를 외칠 수 있음\n",
        "- 조건 3: 외쳐진 숫자보다 1 큰 수만 외칠 수 있음 (ex: 5 다음엔 무조건 6)\n",
        "  - 이 조건이 맞지 않을 경우 재입력"
      ],
      "metadata": {
        "id": "dLsWrdczFR4G"
      }
    },
    {
      "cell_type": "code",
      "source": [
        "def bs31():\n",
        "    print(\"베스킨라빈스 써리원 게임\")\n",
        "    print(\"------------------\")\n",
        "    import random\n",
        "    number = 0\n",
        "    while True:\n",
        "        # my turn\n",
        "        my = input(\"My turn - 숫자를 입력하세요: \")\n",
        "        my = my.split()\n",
        "        if int(my[0]) != number + 1 or len(my) > 3:\n",
        "            print(\"숫자를 제대로 입력하세요\")\n",
        "            continue\n",
        "        # 숫자 2개 입력 후 연속된 숫자가 아닐 경우 제한\n",
        "        if len(my) == 2:\n",
        "            if int(my[1]) - int(my[0]) != 1:\n",
        "                print(\"연속된 숫자만 입력하세요\")\n",
        "                continue\n",
        "        # 숫자 3개 입력 후 연속된 숫자가 아닐 경우 제한\n",
        "        if len(my) == 3:\n",
        "            if int(my[2]) - int(my[1]) != 1 or int(my[1]) - int(my[0]) != 1:\n",
        "                print(\"연속된 숫자만 입력하세요\")\n",
        "                continue\n",
        "\n",
        "        number = int(my[-1])\n",
        "        print(f\"현재 숫자 : {number}\")\n",
        "\n",
        "        # 31을 넘겼는지 검사\n",
        "        if number >= 31:\n",
        "            print(\"패배\")\n",
        "            break\n",
        "\n",
        "        # computer\n",
        "        computer = []\n",
        "        computer_turn_num = random.randint(1, 3)\n",
        "        for i in range(computer_turn_num):\n",
        "            number += 1\n",
        "            # 컴퓨터가 31이 넘는 수를 외치면 31로 되돌리기\n",
        "            if number > 31:\n",
        "                number = number - 1\n",
        "                continue\n",
        "            computer.append(number)\n",
        "            print(f\"컴퓨터 : {computer[-1]}\")\n",
        "        print(f\"현재 숫자 : {number}\")\n",
        "        print()\n",
        "        # 31이 있는지 검사\n",
        "        if 31 in computer:\n",
        "            print(\"승리!\")\n",
        "            break\n",
        "    print(\"게임 종료\")"
      ],
      "metadata": {
        "id": "x_aMbY1w5tDq"
      },
      "execution_count": null,
      "outputs": []
    },
    {
      "cell_type": "code",
      "source": [
        "bs31()"
      ],
      "metadata": {
        "id": "bUWfz-nWtI5F"
      },
      "execution_count": null,
      "outputs": []
    },
    {
      "cell_type": "markdown",
      "source": [
        "####Q2. 다음과 같이 학생들의 시험 답지가 있습니다. 그리고 답안지도 있습니다.\n",
        "\n",
        "함수를 하나 만들어 채점을 하고 학생들의 점수를 출력하고 등수도 함께 출력해주세요.\n",
        "\n",
        "<pre># 학생 답\n",
        "s = [\"김갑,3242524215\",\n",
        "\"이을,3242524223\",\n",
        "\"박병,2242554131\",\n",
        "\"최정,4245242315\",\n",
        "\"정무,3242524315\"]\n",
        "\n",
        "# 정답지\n",
        "a = [3,2,4,2,5,2,4,3,1,2]'</pre>"
      ],
      "metadata": {
        "id": "nLA-ny-rFTl-"
      }
    },
    {
      "cell_type": "code",
      "source": [
        "a = [3,2,4,2,5,2,4,3,1,2]\n",
        "s = [\"김갑,3242524215\",\"이을,3242524223\",\"박병,2242554131\",\"최정,4245242315\",\"정무,3242524315\"]\n",
        "\n",
        "# 빈 리스트 생성: 학생명(name), 답안(ans), 점수(scores)\n",
        "name = [] \n",
        "ans = []\n",
        "scores = []\n",
        "\n",
        "# 1. 원본 데이터 리스트에서 학생명과 답안을 분리해 각각 다른 리스트에 저장 \n",
        "for s in s:\n",
        "  s = s.split(',')\n",
        "  name.append(s[0])\n",
        "  ans.append(s[1])"
      ],
      "metadata": {
        "id": "mfIfSIKA_Wby"
      },
      "execution_count": null,
      "outputs": []
    },
    {
      "cell_type": "code",
      "source": [
        "ans"
      ],
      "metadata": {
        "colab": {
          "base_uri": "https://localhost:8080/"
        },
        "id": "DPn1sXiq_zFW",
        "outputId": "2cced8bb-4091-4c09-9d64-945389ffd85f"
      },
      "execution_count": null,
      "outputs": [
        {
          "output_type": "execute_result",
          "data": {
            "text/plain": [
              "['3242524215', '3242524223', '2242554131', '4245242315', '3242524315']"
            ]
          },
          "metadata": {},
          "execution_count": 66
        }
      ]
    },
    {
      "cell_type": "code",
      "source": [
        "int(ans[0][1])"
      ],
      "metadata": {
        "colab": {
          "base_uri": "https://localhost:8080/"
        },
        "id": "ba5DiIom_11e",
        "outputId": "19b72fb0-fd87-4e69-ab1f-363206fd41c1"
      },
      "execution_count": null,
      "outputs": [
        {
          "output_type": "execute_result",
          "data": {
            "text/plain": [
              "2"
            ]
          },
          "metadata": {},
          "execution_count": 71
        }
      ]
    },
    {
      "cell_type": "code",
      "source": [
        "a[0]"
      ],
      "metadata": {
        "colab": {
          "base_uri": "https://localhost:8080/"
        },
        "id": "qgWtbq1t_5fQ",
        "outputId": "eaf72696-5a99-4c4a-db85-ddacaaca2667"
      },
      "execution_count": null,
      "outputs": [
        {
          "output_type": "execute_result",
          "data": {
            "text/plain": [
              "3"
            ]
          },
          "metadata": {},
          "execution_count": 69
        }
      ]
    },
    {
      "cell_type": "code",
      "source": [
        "def grader(student, answers):\n",
        "  a = [3,2,4,2,5,2,4,3,1,2]\n",
        "  s = [\"김갑,3242524215\",\"이을,3242524223\",\"박병,2242554131\",\"최정,4245242315\",\"정무,3242524315\"]\n",
        "\n",
        "  # 빈 리스트 생성: 학생명(name), 답안(ans), 점수(scores)\n",
        "  name = [] \n",
        "  ans = []\n",
        "  scores = []\n",
        "\n",
        "  # 1. 원본 데이터 리스트에서 학생명과 답안을 분리해 각각 다른 리스트에 저장 \n",
        "  for s in student:\n",
        "    s = s.split(',')\n",
        "    name.append(s[0])\n",
        "    ans.append(s[1])\n",
        "\n",
        "  # 2. 문제당 10점으로 채점 \n",
        "  for a in ans:\n",
        "    score = 0 # 기본 점수는 0에서 시작\n",
        "    for i in range(len(a)):\n",
        "      if int(a[i]) == answers[i]: # 정답과 동일하면\n",
        "        score += 10 # 10점을 추가 \n",
        "    scores.append(score)\n",
        "\n",
        "  # 3. name 리스트와 scores 리스트를 결합 \n",
        "  for i in range(len(name)):\n",
        "    name[i] = str(scores[i]) + name[i]\n",
        "  \n",
        "  # 4. 점수를 기준으로 내림차순 정렬\n",
        "  name.sort(reverse = True)\n",
        "\n",
        "  for s in range(len(name)):\n",
        "    print(f'학생:{name[s][2:]} 점수: {name[s][:2]} {s + 1}등')"
      ],
      "metadata": {
        "id": "lUeuXoT7-l38"
      },
      "execution_count": null,
      "outputs": []
    },
    {
      "cell_type": "code",
      "source": [
        "grader(s, a)"
      ],
      "metadata": {
        "colab": {
          "base_uri": "https://localhost:8080/"
        },
        "id": "YY4HCnK-i7SX",
        "outputId": "99e5fd66-1a08-4066-a929-7c0a1668205f"
      },
      "execution_count": null,
      "outputs": [
        {
          "output_type": "stream",
          "name": "stdout",
          "text": [
            "학생:정무 점수: 90 1등\n",
            "학생:김갑 점수: 80 2등\n",
            "학생:이을 점수: 70 3등\n",
            "학생:박병 점수: 50 4등\n",
            "학생:최정 점수: 40 5등\n"
          ]
        }
      ]
    },
    {
      "cell_type": "markdown",
      "source": [
        "####Q3.  숫자 맞히기 게임\n",
        "- 조건 1: 숫자는 0 ~ 100까지 숫자를 3개 만듭니다(중복 불가)\n",
        "- 조건 2: 5회, 10회까지 정답을 못 맞히면 최솟값, 최댓값에 대한 힌트를 줍니다.\n",
        "- 조건 3: 정답을 맞히면, 맞힌 정답이 최솟값인지, 중간값인지, 최댓값인지 알려줍니다."
      ],
      "metadata": {
        "id": "VrMdFgtTFVOG"
      }
    },
    {
      "cell_type": "code",
      "source": [
        "def guess_number():\n",
        "  # 숫자 만들기\n",
        "  import random \n",
        "\n",
        "  # 컴퓨터가 예측한 숫자를 담을 리스트 생성\n",
        "  num_list = []\n",
        "\n",
        "  # 3번 생성한 난수들을 리스트에 정리\n",
        "  for _ in range(3):\n",
        "    number = random.randint(0, 100)\n",
        "    while number in num_list:\n",
        "      number = random.randint(0, 100)\n",
        "    num_list.append(number) \n",
        "\n",
        "  tries = 1 #시도 횟수 \n",
        "  mynum_list = [] # 내가 예측에 사용한 숫자들을 담을 리스트 생성 \n",
        "  count = 3 # 루프의 횟수 지정을 위한 변수 설정: 숫자가 총 3개이므로 3번 검증해야 함\n",
        "\n",
        "  while count > 0:\n",
        "    print(f'{tries}차 시도')\n",
        "    my_number = int(input(\"숫자를 예측해 보세요. \"))\n",
        "    if my_number in mynum_list:\n",
        "      print(\"이미 예측했던 숫자입니다\")\n",
        "      continue\n",
        "    else:\n",
        "      mynum_list.append(my_number)\n",
        "      \n",
        "  \n",
        "    if my_number not in num_list: \n",
        "      print(f'{my_number}는 없습니다.')\n",
        "\n",
        "      # 5번 예측해서 정답을 못 맞히면 최솟값 힌트\n",
        "      if tries == 5: \n",
        "        if my_number > min(num_list):\n",
        "          print(f'최솟값은 {my_number}보다 작습니다.')\n",
        "        else:\n",
        "          print(f'최솟값은 {my_number}보다 큽니다.')\n",
        "\n",
        "      # 10번 예측해서 정답을 못 맞히면 최댓값 힌트 \n",
        "      if tries == 10:\n",
        "        if my_number > max(num_list):\n",
        "          print(f'최댓값은 {my_number}보다 작습니다.')\n",
        "        else:\n",
        "          print(f'최댓값은 {my_number}보다 큽니다.')\n",
        "\n",
        "      # 시도 횟수 증가\n",
        "      tries += 1 \n",
        "      continue\n",
        "\n",
        "    else: # 맞혔을 경우 회문을 탈출하므로 break \n",
        "      if my_number == min(num_list):\n",
        "        print(f'숫자를 맞히셨습니다! {my_number}는 최솟값입니다.')\n",
        "        tries += 1 \n",
        "        break\n",
        "      elif my_number == max(num_list):\n",
        "        print(f'숫자를 맞히셨습니다! {my_number}는 최댓값입니다.')\n",
        "        tries += 1 \n",
        "        break\n",
        "      else:\n",
        "        print(f'숫자를 맞히셨습니다! {my_number}는 중간값입니다.')\n",
        "        tries += 1 \n",
        "        break\n",
        "\n",
        "    count -= 1\n",
        "\n",
        "  print(f'게임 종료.\\n{tries - 1}번 시도만에 예측 성공')"
      ],
      "metadata": {
        "id": "jvw-rpdZnszm"
      },
      "execution_count": null,
      "outputs": []
    },
    {
      "cell_type": "code",
      "source": [
        "guess_number()"
      ],
      "metadata": {
        "colab": {
          "base_uri": "https://localhost:8080/"
        },
        "id": "I-1AFMeIseAF",
        "outputId": "ab73bbe6-0cc7-4927-f172-0b14bbe3bab2"
      },
      "execution_count": null,
      "outputs": [
        {
          "output_type": "stream",
          "name": "stdout",
          "text": [
            "1차 시도\n",
            "숫자를 예측해 보세요. 12\n",
            "12는 없습니다.\n",
            "2차 시도\n",
            "숫자를 예측해 보세요. 66\n",
            "66는 없습니다.\n",
            "3차 시도\n",
            "숫자를 예측해 보세요. 98\n",
            "98는 없습니다.\n",
            "4차 시도\n",
            "숫자를 예측해 보세요. 33\n",
            "33는 없습니다.\n",
            "5차 시도\n",
            "숫자를 예측해 보세요. 67\n",
            "67는 없습니다.\n",
            "최솟값은 67보다 큽니다.\n",
            "6차 시도\n",
            "숫자를 예측해 보세요. 25\n",
            "숫자를 맞히셨습니다! 25는 최솟값입니다.\n",
            "\"게임 종료.\n",
            "6번 시도만에 예측 성공\n"
          ]
        }
      ]
    },
    {
      "cell_type": "markdown",
      "source": [
        "####Q4. 날짜를 넣으면 100일째가 몇 월 며칠인지 계산해 주는 함수\n",
        "- 조건 1: \"오늘부터 1일\"이기 때문에 날짜를 계산할 때 오늘을 포함\n",
        "- 조건 2: 몇 년도인지 구분하지 않고 윤년도 고려하지 않고 2월은 무조건 28일\n"
      ],
      "metadata": {
        "id": "jJqgXPaOFVuO"
      }
    },
    {
      "cell_type": "code",
      "source": [
        "def after_100(mon, day, week):\n",
        "  # 요일을 리스트화\n",
        "  weekday = ['월', '화', '수', '목', '금', '토', '일']\n",
        "\n",
        "  # 각 달이 며칠까지 있는지 리스트화\n",
        "  month = [31, 28, 31, 30, 31, 30, 31, 31, 30, 31, 30, 31]\n",
        "\n",
        "  # 인덱스는 0부터 시작하지만 달은 1월부터 시작하므로, 계산을 위해 -1 \n",
        "  newmon = mon - 1\n",
        "  newday = day + 99\n",
        "\n",
        "  while newday > 0:\n",
        "    newday = newday - month[newmon]\n",
        "    newmon += 1\n",
        "    if newmon >= 12: # 월의 숫자가 12를 넘기지 않도록 처리\n",
        "      newmon = 0\n",
        "    else:\n",
        "      pass\n",
        "  \n",
        "  newday = newday + month[newmon] - 1\n",
        "\n",
        "  # 일요일 다음은 월요일로 돌아갈 수 있도록 처리 \n",
        "  new_weekday = weekday.index(week) + (100 % 7) - 1\n",
        "  if new_weekday > 6:\n",
        "    new_weekday = new_weekday - 5\n",
        "\n",
        "  new_weekday = weekday[new_weekday]\n",
        "\n",
        "  return print(f'{mon}월 {day}일 {week}요일부터 100일째는 {newmon}월 {newday}일 {new_weekday}요일')"
      ],
      "metadata": {
        "id": "K3Egd34yt3Ie"
      },
      "execution_count": null,
      "outputs": []
    },
    {
      "cell_type": "code",
      "source": [
        "after_100(6, 21, '월')"
      ],
      "metadata": {
        "colab": {
          "base_uri": "https://localhost:8080/"
        },
        "id": "sOubGy7jvINk",
        "outputId": "6e6cfd60-54d7-47c0-a4e9-0fbeae5bcb81"
      },
      "execution_count": null,
      "outputs": [
        {
          "output_type": "stream",
          "name": "stdout",
          "text": [
            "6월 21일 월요일부터 100일째는 9월 28일 화요일\n"
          ]
        }
      ]
    }
  ]
}