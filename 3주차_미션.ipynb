{
  "nbformat": 4,
  "nbformat_minor": 0,
  "metadata": {
    "colab": {
      "name": "3주차_미션_뿅뿅.ipynb",
      "provenance": [],
      "authorship_tag": "ABX9TyMk0jkM/oj1Hu4+l14y4SSW",
      "include_colab_link": true
    },
    "kernelspec": {
      "name": "python3",
      "display_name": "Python 3"
    },
    "language_info": {
      "name": "python"
    }
  },
  "cells": [
    {
      "cell_type": "markdown",
      "metadata": {
        "id": "view-in-github",
        "colab_type": "text"
      },
      "source": [
        "<a href=\"https://colab.research.google.com/github/yk-Jeong/PY4E/blob/main/3%EC%A3%BC%EC%B0%A8_%EB%AF%B8%EC%85%98.ipynb\" target=\"_parent\"><img src=\"https://colab.research.google.com/assets/colab-badge.svg\" alt=\"Open In Colab\"/></a>"
      ]
    },
    {
      "cell_type": "markdown",
      "source": [
        "https://www.boostcourse.org/study-py4e-2022/lecture/1426302?isDesc=false"
      ],
      "metadata": {
        "id": "c69MKShRrdFD"
      }
    },
    {
      "cell_type": "markdown",
      "source": [
        "Q1. 구구단을 출력하는 함수\n",
        "- 조건 1. 홀수 번째만 출력하기\n",
        "- 조건 2. 값이 50 이하인 것만 출력하기 "
      ],
      "metadata": {
        "id": "vTTmvx2TuLyT"
      }
    },
    {
      "cell_type": "code",
      "source": [
        "number = int(input(\"몇 단?: \"))"
      ],
      "metadata": {
        "colab": {
          "base_uri": "https://localhost:8080/"
        },
        "id": "DiDP9i50uRsr",
        "outputId": "e25be752-2a40-45d5-cd2d-299d1069dcb6"
      },
      "execution_count": 78,
      "outputs": [
        {
          "name": "stdout",
          "output_type": "stream",
          "text": [
            "몇 단?: 9\n"
          ]
        }
      ]
    },
    {
      "cell_type": "code",
      "source": [
        "def gugudan(number): \n",
        "  print(f'{number}단')\n",
        "  for i in range(1, 10, 2):\n",
        "    if (number * i) <= 50 :\n",
        "      print(f'{number} X {i} = {number*i}')"
      ],
      "metadata": {
        "id": "M3CIJwrzubdF"
      },
      "execution_count": 80,
      "outputs": []
    },
    {
      "cell_type": "code",
      "source": [
        "gugudan(number)"
      ],
      "metadata": {
        "colab": {
          "base_uri": "https://localhost:8080/"
        },
        "id": "urgsvRZ4u-22",
        "outputId": "54efa18b-fc82-4026-f90e-c488d364e044"
      },
      "execution_count": 81,
      "outputs": [
        {
          "output_type": "stream",
          "name": "stdout",
          "text": [
            "9단\n",
            "9 X 1 = 9\n",
            "9 X 3 = 27\n",
            "9 X 5 = 45\n"
          ]
        }
      ]
    },
    {
      "cell_type": "markdown",
      "source": [
        "Q2. 가위바위보 업그레이드 버전 \n",
        "- \n",
        "- "
      ],
      "metadata": {
        "id": "1mV5s0e0uSGO"
      }
    },
    {
      "cell_type": "markdown",
      "source": [
        "Q3. 2개의 숫자 사이에 있는 짝수와 중앙값 출력하기 "
      ],
      "metadata": {
        "id": "hmJSo-mAC9BU"
      }
    },
    {
      "cell_type": "code",
      "execution_count": 14,
      "metadata": {
        "id": "GUXNfSaJrXKu",
        "colab": {
          "base_uri": "https://localhost:8080/"
        },
        "outputId": "79528669-65b0-41a3-9e1d-bd451a3ca6d9"
      },
      "outputs": [
        {
          "name": "stdout",
          "output_type": "stream",
          "text": [
            "첫 번째 수 입력: 1\n",
            "두 번째 수 입력: 11\n"
          ]
        }
      ],
      "source": [
        "n = int(input(\"첫 번째 수 입력: \"))\n",
        "m = int(input(\"두 번째 수 입력: \"))\n",
        "numbers = [i for i in range(n, m+1)]"
      ]
    },
    {
      "cell_type": "code",
      "source": [
        "import statistics"
      ],
      "metadata": {
        "id": "N3IeRUTtGvzK"
      },
      "execution_count": 9,
      "outputs": []
    },
    {
      "cell_type": "code",
      "source": [
        "def find_even_number(n, m):\n",
        "  for i in range(n, m+1):\n",
        "    if i % 2 == 0:\n",
        "      print(f'{i} 짝수')\n",
        "      if(numbers[i] == int(statistics.median(numbers))) and (numbers[i] % 2) == 0:\n",
        "        print(f'{i} 중앙값')"
      ],
      "metadata": {
        "id": "deRE5bZfEAVo"
      },
      "execution_count": 16,
      "outputs": []
    },
    {
      "cell_type": "code",
      "source": [
        "find_even_number(1, 10)"
      ],
      "metadata": {
        "colab": {
          "base_uri": "https://localhost:8080/"
        },
        "id": "nuqDsg3GENPt",
        "outputId": "162662d3-ccb1-4e72-9208-b24f82c8a0c4"
      },
      "execution_count": 17,
      "outputs": [
        {
          "output_type": "stream",
          "name": "stdout",
          "text": [
            "2 짝수\n",
            "4 짝수\n",
            "6 짝수\n",
            "8 짝수\n",
            "10 짝수\n"
          ]
        }
      ]
    },
    {
      "cell_type": "markdown",
      "source": [
        "Q4. 2개의 숫자 사이에 있는 소수의 개수 출력하기 "
      ],
      "metadata": {
        "id": "EVzWaRwpFc5-"
      }
    },
    {
      "cell_type": "code",
      "source": [
        "n = int(input(\"첫 번째 수 입력: \"))\n",
        "m = int(input(\"두 번째 수 입력: \"))\n",
        "numbers = [i for i in range(n, m+1)]"
      ],
      "metadata": {
        "colab": {
          "base_uri": "https://localhost:8080/"
        },
        "id": "LRb-HXb6OcJ3",
        "outputId": "aae0ba91-dd35-46b4-dd0a-79905830ba5f"
      },
      "execution_count": 120,
      "outputs": [
        {
          "name": "stdout",
          "output_type": "stream",
          "text": [
            "첫 번째 수 입력: 1\n",
            "두 번째 수 입력: 100\n"
          ]
        }
      ]
    },
    {
      "cell_type": "code",
      "source": [
        "def count_prime_number(n, m):\n",
        "  prime = m - 1\n",
        "  for i in range(len(numbers)):\n",
        "    for j in range(2, i):\n",
        "      if numbers[i] % j == 0:\n",
        "        prime -= 1\n",
        "        break\n",
        "  return prime"
      ],
      "metadata": {
        "id": "bCQmN85zE1JK"
      },
      "execution_count": 121,
      "outputs": []
    },
    {
      "cell_type": "code",
      "source": [
        "count_prime_number(n, m)"
      ],
      "metadata": {
        "colab": {
          "base_uri": "https://localhost:8080/"
        },
        "id": "o-zK-YvHPB-u",
        "outputId": "d59a0c4f-b3a9-4e6f-fa8b-29d7ae01b423"
      },
      "execution_count": 122,
      "outputs": [
        {
          "output_type": "execute_result",
          "data": {
            "text/plain": [
              "25"
            ]
          },
          "metadata": {},
          "execution_count": 122
        }
      ]
    },
    {
      "cell_type": "code",
      "source": [
        ""
      ],
      "metadata": {
        "id": "HB0DCFyvwWDZ"
      },
      "execution_count": null,
      "outputs": []
    }
  ]
}