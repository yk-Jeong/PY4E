{
  "nbformat": 4,
  "nbformat_minor": 0,
  "metadata": {
    "colab": {
      "name": "4주차_미션_뿅뿅ipynb",
      "provenance": [],
      "collapsed_sections": [],
      "authorship_tag": "ABX9TyMdRJbOI3M/3HEW1J5Vvbgg",
      "include_colab_link": true
    },
    "kernelspec": {
      "name": "python3",
      "display_name": "Python 3"
    },
    "language_info": {
      "name": "python"
    }
  },
  "cells": [
    {
      "cell_type": "markdown",
      "metadata": {
        "id": "view-in-github",
        "colab_type": "text"
      },
      "source": [
        "<a href=\"https://colab.research.google.com/github/yk-Jeong/PY4E/blob/main/4%EC%A3%BC%EC%B0%A8_%EB%AF%B8%EC%85%98_%EB%BF%85%EB%BF%85.ipynb\" target=\"_parent\"><img src=\"https://colab.research.google.com/assets/colab-badge.svg\" alt=\"Open In Colab\"/></a>"
      ]
    },
    {
      "cell_type": "markdown",
      "source": [
        "####Q1. 숫자를 입력받고 3자리마다 ,를 찍어주는 함수"
      ],
      "metadata": {
        "id": "FVMpCmFKT-Pw"
      }
    },
    {
      "cell_type": "code",
      "source": [
        "def make_comma(n):\n",
        "  print(format(n, ','))"
      ],
      "metadata": {
        "id": "oRWidw0OWF-k"
      },
      "execution_count": 1,
      "outputs": []
    },
    {
      "cell_type": "code",
      "execution_count": 2,
      "metadata": {
        "colab": {
          "base_uri": "https://localhost:8080/"
        },
        "id": "izmKfojiT2G9",
        "outputId": "2b12da52-521d-4067-eb6a-2611b1950d58"
      },
      "outputs": [
        {
          "output_type": "stream",
          "name": "stdout",
          "text": [
            "1,000,000\n"
          ]
        }
      ],
      "source": [
        "make_comma(1000000)"
      ]
    },
    {
      "cell_type": "markdown",
      "source": [
        "####Q2. 특정 글자가 전체 글에서 몇 개 들어있는지 찾는 함수 \n",
        "- 조건 1: 변수에 담긴 글을 함수에 넣어주면 txt파일로 저장되도록 함 "
      ],
      "metadata": {
        "id": "kM_z9U6DUJHe"
      }
    },
    {
      "cell_type": "code",
      "source": [
        "def count_word:\n",
        "  "
      ],
      "metadata": {
        "id": "5eez10yVW7x5"
      },
      "execution_count": null,
      "outputs": []
    },
    {
      "cell_type": "code",
      "source": [
        "count_word(a, text)"
      ],
      "metadata": {
        "id": "Zzl51JXrUJeh"
      },
      "execution_count": null,
      "outputs": []
    },
    {
      "cell_type": "markdown",
      "source": [
        "####Q3. 특정 글자가 전체 글에서 몇 개 들어있는지 찾는 함수 \n",
        "- 조건 1: 함수에 방명록을 넣어주면 txt파일로 저장되도록 함 \n",
        "- 조건 2: \n",
        "  - 전화번호가 010으로 시작함\n",
        "  - 전화번호가 대시로 구분되어 있음\n",
        "  - 전화번호의 길이가 대시를 포함해 13임"
      ],
      "metadata": {
        "id": "Slc1sq66UJqh"
      }
    },
    {
      "cell_type": "code",
      "source": [
        ""
      ],
      "metadata": {
        "id": "YsFKTsrvUJ95"
      },
      "execution_count": null,
      "outputs": []
    },
    {
      "cell_type": "markdown",
      "source": [
        "####Q4. 주민등록번호를 입력하면 몇년 몇월 생인지 그리고 남자인지 여자인지 출력하는 함수\n",
        "- 주민등록번호는 6자리 이후에 -로 구분되어야 하고 길이는 - 포함 14임\n",
        "- 뒷자리는 1,3 은 남자 2,4는 여자\n",
        "- 00 ~ 21로 시작할 경우 2000년 이후 출생자인지 물어 볼 것 (맞으면 o 틀리면 x)\n",
        "- 뒷자리 3, 4를 가질 수 있는 사람은 00년생 이후 출생자 밖에 없음\n"
      ],
      "metadata": {
        "id": "3K9oPjOMUklc"
      }
    },
    {
      "cell_type": "code",
      "source": [
        ""
      ],
      "metadata": {
        "id": "jZQ__pVSUk7k"
      },
      "execution_count": null,
      "outputs": []
    }
  ]
}