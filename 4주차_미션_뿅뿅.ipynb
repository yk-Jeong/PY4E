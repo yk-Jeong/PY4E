{
  "nbformat": 4,
  "nbformat_minor": 0,
  "metadata": {
    "colab": {
      "name": "4주차_미션_뿅뿅",
      "provenance": [],
      "collapsed_sections": [],
      "authorship_tag": "ABX9TyNVZlK4dvFoymkMro3ZIyog",
      "include_colab_link": true
    },
    "kernelspec": {
      "name": "python3",
      "display_name": "Python 3"
    },
    "language_info": {
      "name": "python"
    }
  },
  "cells": [
    {
      "cell_type": "markdown",
      "metadata": {
        "id": "view-in-github",
        "colab_type": "text"
      },
      "source": [
        "<a href=\"https://colab.research.google.com/github/yk-Jeong/PY4E/blob/main/4%EC%A3%BC%EC%B0%A8_%EB%AF%B8%EC%85%98_%EB%BF%85%EB%BF%85.ipynb\" target=\"_parent\"><img src=\"https://colab.research.google.com/assets/colab-badge.svg\" alt=\"Open In Colab\"/></a>"
      ]
    },
    {
      "cell_type": "markdown",
      "source": [
        "####Q1. 숫자를 입력받고 3자리마다 ,를 찍어주는 함수"
      ],
      "metadata": {
        "id": "FVMpCmFKT-Pw"
      }
    },
    {
      "cell_type": "code",
      "source": [
        "def make_comma(n):\n",
        "  n = str(n) # 입력값을 int -> str 로 type 변환\n",
        "  comma = len(n) // 3 # 콤마는 10^3의 자리마다 찍히므로, 전체 길이를 3으로 나누어 줌\n",
        "  if len(n) % 3 == 0: # 이때 만약 나머지가 0이라면(즉 입력한 수가 100의 제곱이라면) \n",
        "    comma = comma - 1 # 콤마의 개수를 1개 차감\n",
        "  \n",
        "  num = \"\" # 문자열 타입의 빈 변수를 생성\n",
        "  count = -1 # 뒤에서부터(=역순으로) 콤마를 표기할 것이므로 -1에서 시작\n",
        "  while comma != 0: #comma가 0이 아닌 동안 반복\n",
        "    num = n[count] + num\n",
        "    if count % 3 == 0:\n",
        "      num = \",\"+ num\n",
        "      comma = comma - 1\n",
        "    count = count - 1\n",
        "\n",
        "  print(n[:count+1]+num)"
      ],
      "metadata": {
        "id": "oRWidw0OWF-k"
      },
      "execution_count": null,
      "outputs": []
    },
    {
      "cell_type": "code",
      "execution_count": null,
      "metadata": {
        "colab": {
          "base_uri": "https://localhost:8080/"
        },
        "id": "izmKfojiT2G9",
        "outputId": "dddf6415-2c71-4507-a012-ff0d88fc3c02"
      },
      "outputs": [
        {
          "output_type": "stream",
          "name": "stdout",
          "text": [
            "1,000,000\n"
          ]
        }
      ],
      "source": [
        "make_comma(1000000)"
      ]
    },
    {
      "cell_type": "markdown",
      "source": [
        "####Q2. 특정 글자가 전체 글에서 몇 개 들어있는지 찾는 함수 \n",
        "- 조건 1: 변수에 담긴 글을 함수에 넣어주면 txt파일로 저장되도록 함 "
      ],
      "metadata": {
        "id": "kM_z9U6DUJHe"
      }
    },
    {
      "cell_type": "code",
      "source": [
        "def count_word(text, word):  \n",
        "\n",
        "  # 문자의 길이만큼 저장할 변수 선언\n",
        "  word_len = \"\" \n",
        "  # word가 몇 개 들어있는지 세기 위한 변수 선언\n",
        "  count = 0\n",
        "\n",
        "  # 변수 a에 입력된 문자열을 .txt 파일로 저장\n",
        "  file = open('/content/text.txt', 'w', encoding='utf-8')\n",
        "  file.write(text)\n",
        "  file.close()\n",
        "\n",
        "  # 변수 text에 할당해 파일을 오픈 \n",
        "  text_line = open('/content/text.txt', 'r')\n",
        "\n",
        "  # 한 줄씩 읽어들임 \n",
        "  for line in text_line: \n",
        "    if word in line:\n",
        "      for s in line:\n",
        "        word_len += s\n",
        "        if word_len == word:\n",
        "          count += 1\n",
        "        if len(word_len) == len(word): \n",
        "          word_len = word_len[1:]\n",
        "\n",
        "  print(count)"
      ],
      "metadata": {
        "id": "5eez10yVW7x5"
      },
      "execution_count": null,
      "outputs": []
    },
    {
      "cell_type": "code",
      "source": [
        "a =\"\"\"안녕하세요. \n",
        "반갑습니다. 파이썬 공부는 정말 재밌습니다.\n",
        "\"\"\""
      ],
      "metadata": {
        "id": "IFDx5CzdJj8N"
      },
      "execution_count": null,
      "outputs": []
    },
    {
      "cell_type": "code",
      "source": [
        "count_word(a, '습니다')"
      ],
      "metadata": {
        "id": "Zzl51JXrUJeh",
        "colab": {
          "base_uri": "https://localhost:8080/"
        },
        "outputId": "4616daef-67a3-426d-e717-3b4c5496e5ed"
      },
      "execution_count": null,
      "outputs": [
        {
          "output_type": "stream",
          "name": "stdout",
          "text": [
            "2\n"
          ]
        }
      ]
    },
    {
      "cell_type": "markdown",
      "source": [
        "####Q3. 방명록 함수 \n",
        "- 조건 1: 함수에 방명록을 넣어주면 txt파일로 저장되도록 함 \n",
        "- 조건 2: \n",
        "  - 전화번호가 010으로 시작함\n",
        "  - 전화번호가 대시로 구분되어 있음\n",
        "  - 전화번호의 길이가 대시를 포함해 13임"
      ],
      "metadata": {
        "id": "Slc1sq66UJqh"
      }
    },
    {
      "cell_type": "code",
      "source": [
        "guest_book = \"\"\"김갑,123456789\n",
        "이을,010-1234-5678\n",
        "박병,010-5678-111\n",
        "최정,111-1111-1111\n",
        "정무,010-3333-3333\"\"\""
      ],
      "metadata": {
        "id": "3NGq_FzyRobY"
      },
      "execution_count": null,
      "outputs": []
    },
    {
      "cell_type": "code",
      "source": [
        "def wrong_guest_book(guest_book):\n",
        "  # 변수 guest_book에 입력된 문자열을 .txt 파일로 저장\n",
        "  file = open('/content/guest_book.txt', 'w', encoding='utf-8')\n",
        "  file.write(guest_book)\n",
        "  file.close()\n",
        "\n",
        "  file = open('/content/guest_book.txt', 'r')\n",
        "\n",
        "  for line in file:\n",
        "    name = line[:2] # 이름은 [2]까지\n",
        "    number = line[3:].strip() # [3]부터는 전화번호로 분리 \n",
        "\n",
        "    # 제대로 적은 방명록의 조건\n",
        "    if (number.startswith(\"010\") == True) and (number.find(\"-\") != -1) and (len(number) == 13):\n",
        "      continue\n",
        "    else:\n",
        "      print(f'잘못 쓴 사람: {name}\\n잘못 쓴 번호: {number}')\n",
        "      print()"
      ],
      "metadata": {
        "id": "YsFKTsrvUJ95"
      },
      "execution_count": null,
      "outputs": []
    },
    {
      "cell_type": "code",
      "source": [
        "wrong_guest_book(guest_book)"
      ],
      "metadata": {
        "colab": {
          "base_uri": "https://localhost:8080/"
        },
        "id": "8avus2xoRsNY",
        "outputId": "a83cbed7-3006-462a-de5f-0d2e05df2abe"
      },
      "execution_count": null,
      "outputs": [
        {
          "output_type": "stream",
          "name": "stdout",
          "text": [
            "잘못 쓴 사람: 김갑\n",
            "잘못 쓴 번호: 123456789\n",
            "\n",
            "잘못 쓴 사람: 박병\n",
            "잘못 쓴 번호: 010-5678-111\n",
            "\n",
            "잘못 쓴 사람: 최정\n",
            "잘못 쓴 번호: 111-1111-1111\n",
            "\n"
          ]
        }
      ]
    },
    {
      "cell_type": "markdown",
      "source": [
        "####Q4. 주민등록번호를 입력하면 몇 년 몇 월 생인지 그리고 남자인지 여자인지 출력하는 함수\n",
        "- 조건 1. 주민등록번호는 6자리 이후에 -로 구분되어야 하고 길이는 - 포함 14임\n",
        "- 조건 2. 뒷자리는 1,3 은 남자 2,4는 여자\n",
        "- 조건 3. 00 ~ 21로 시작할 경우 2000년 이후 출생자인지 물어 볼 것 (맞으면 o 틀리면 x)\n",
        "- 조건 4. 뒷자리 3, 4를 가질 수 있는 사람은 00년생 이후 출생자밖에 없음\n"
      ],
      "metadata": {
        "id": "3K9oPjOMUklc"
      }
    },
    {
      "cell_type": "code",
      "source": [
        "def check_id(a):  \n",
        "  error_message = \"잘못된 주민등록번호입니다.\\n올바른 번호를 넣어주세요.\"\n",
        "  gender = \"\"\n",
        "\n",
        "  # 조건 1\n",
        "  if (len(a) != 14) or (a.find('-') == -1):\n",
        "    print(error_message)\n",
        "\n",
        "  else:\n",
        "    # 조건 3\n",
        "    if int(a[:2]) < 22:\n",
        "      mile = input(\"2000년 이후 출생자입니까? 맞으면 o 아니면 x: \")\n",
        "      # 조건 4-1\n",
        "      if mile == 'o':\n",
        "        if (a[7] != '4') and (a[7] != '3'):\n",
        "          print(error_message)\n",
        "          \n",
        "      elif mile == 'x':\n",
        "        if a[7] == '4':\n",
        "          gender = \"여자\"\n",
        "        elif a[7] == '3':\n",
        "          gender = \"남자\"\n",
        "        \n",
        "        print(f'{a[:2]}년 {a[2:4]}월생 {gender}')\n",
        "        \n",
        "      else:\n",
        "        pass\n",
        "              \n",
        "      # 조건 4-2\n",
        "    else:\n",
        "      if a[7] == '2': \n",
        "        gender = \"여자\"\n",
        "      elif a[7] == '1':\n",
        "        gender = \"남자\"\n",
        "\n",
        "      print(f'{a[:2]}년 {a[2:4]}월생 {gender}')"
      ],
      "metadata": {
        "id": "-JaPGbfiB2WH"
      },
      "execution_count": null,
      "outputs": []
    },
    {
      "cell_type": "code",
      "source": [
        "a = input()\n",
        "check_id(a)"
      ],
      "metadata": {
        "id": "2TUz3FYICwon",
        "colab": {
          "base_uri": "https://localhost:8080/"
        },
        "outputId": "fd1a3617-c0d5-4483-efa2-3da04d628f2b"
      },
      "execution_count": null,
      "outputs": [
        {
          "output_type": "stream",
          "name": "stdout",
          "text": [
            "891002-2124110\n",
            "89년 10월생 여자\n"
          ]
        }
      ]
    }
  ]
}