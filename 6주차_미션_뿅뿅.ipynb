{
  "nbformat": 4,
  "nbformat_minor": 0,
  "metadata": {
    "colab": {
      "name": "6주차_미션_뿅뿅.ipynb",
      "provenance": [],
      "collapsed_sections": [],
      "authorship_tag": "ABX9TyPg7Dq9P0mA5u856UYmo/g/",
      "include_colab_link": true
    },
    "kernelspec": {
      "name": "python3",
      "display_name": "Python 3"
    },
    "language_info": {
      "name": "python"
    }
  },
  "cells": [
    {
      "cell_type": "markdown",
      "metadata": {
        "id": "view-in-github",
        "colab_type": "text"
      },
      "source": [
        "<a href=\"https://colab.research.google.com/github/yk-Jeong/PY4E/blob/main/6%EC%A3%BC%EC%B0%A8_%EB%AF%B8%EC%85%98_%EB%BF%85%EB%BF%85.ipynb\" target=\"_parent\"><img src=\"https://colab.research.google.com/assets/colab-badge.svg\" alt=\"Open In Colab\"/></a>"
      ]
    },
    {
      "cell_type": "markdown",
      "source": [
        "####Q1.  고려시대와 조선시대 왕 이름 중에서 고려에도 있고 조선에도 있는 이름 찾기"
      ],
      "metadata": {
        "id": "ZprVbvV46Mfs"
      }
    },
    {
      "cell_type": "code",
      "source": [
        "korea_king = \"태조,혜종,정종,광종,경종,성종,목종,현종,덕종,정종,문종,순종,선종,헌종,숙종,예종,인종,의종,명종,신종,희종,강종,고종,원조,충렬왕,충선왕,충숙왕,충혜왕,충목왕,충정왕,공민왕,우왕,창왕,공양왕\"\n",
        "chosun_king = \"태조,정종,태종,세종,문종,단종,세조,예종,성종,연산군,중종,인종,명종,선조,광해군,인조,효종,현종,숙종,경종,영조,정조,순조,헌종,철종,고종,순종\""
      ],
      "metadata": {
        "id": "YqfsTzTm6UYn"
      },
      "execution_count": null,
      "outputs": []
    },
    {
      "cell_type": "code",
      "execution_count": null,
      "metadata": {
        "id": "7XIVp4le5S6u"
      },
      "outputs": [],
      "source": [
        "def king(korea_king, chosun_king):\n",
        "\n",
        "  # 데이터 형식을 문자열(str)에서 리스트로 변경\n",
        "  korea_king = korea_king.split(',')\n",
        "  chosun_king = chosun_king.split(',')\n",
        "  \n",
        "  # 중복되는 왕 이름을 저장해 줄 리스트 생성\n",
        "  king_name = []\n",
        "\n",
        "  # 고려의 왕이 더 많으므로, 고려왕 리스트를 기준으로 \n",
        "  for i in range(len(korea_king)):\n",
        "    name = korea_king[i]\n",
        "    if name in korea_king and name in chosun_king:\n",
        "      # 중복이 있을 경우 제외 \n",
        "      if name not in king_name:\n",
        "        print(f'조선과 고려에 모두 있는 왕 이름: {name}')\n",
        "        king_name.append(name)\n",
        "\n",
        "  print(f'조선과 고려에 모두 있는 왕 이름은 총 {len(king_name)}개입니다.')"
      ]
    },
    {
      "cell_type": "code",
      "source": [
        "king(korea_king, chosun_king)"
      ],
      "metadata": {
        "colab": {
          "base_uri": "https://localhost:8080/"
        },
        "id": "qgv2SWGn8564",
        "outputId": "cfd647ae-23cd-4bb8-9e0a-69ad5311ed17"
      },
      "execution_count": null,
      "outputs": [
        {
          "output_type": "stream",
          "name": "stdout",
          "text": [
            "조선과 고려에 모두 있는 왕 이름: 태조\n",
            "조선과 고려에 모두 있는 왕 이름: 정종\n",
            "조선과 고려에 모두 있는 왕 이름: 경종\n",
            "조선과 고려에 모두 있는 왕 이름: 성종\n",
            "조선과 고려에 모두 있는 왕 이름: 현종\n",
            "조선과 고려에 모두 있는 왕 이름: 문종\n",
            "조선과 고려에 모두 있는 왕 이름: 순종\n",
            "조선과 고려에 모두 있는 왕 이름: 헌종\n",
            "조선과 고려에 모두 있는 왕 이름: 숙종\n",
            "조선과 고려에 모두 있는 왕 이름: 예종\n",
            "조선과 고려에 모두 있는 왕 이름: 인종\n",
            "조선과 고려에 모두 있는 왕 이름: 명종\n",
            "조선과 고려에 모두 있는 왕 이름: 고종\n",
            "조선과 고려에 모두 있는 왕 이름은 총 13개입니다.\n"
          ]
        }
      ]
    },
    {
      "cell_type": "markdown",
      "source": [
        "####Q2. 보너스 대상자와 면담 대상자를 고르는 함수\n",
        "- 조건 1: 예비 보너스 대상자는 평균 실적 1, 2등\n",
        "- 조건 2: 예비 면담 대상자는 평균 실적 5, 6등 입니다.\n",
        "- 조건 3: 보너스 대상자의 평균 실적이 5보다 크지 않으면 보너스 대상자에서 제외\n",
        "- 조건 4: 면담 대상자의 평균 실적이 3보다 크면 면담 대상자에서 제외\n"
      ],
      "metadata": {
        "id": "9HhHBTZ06OM7"
      }
    },
    {
      "cell_type": "code",
      "source": [
        "# 이름, 실적\n",
        "member_names = [\"갑돌이\", \"갑순이\", \"을돌이\", \"을순이\", \"병돌이\", \"병순이\"]\n",
        "member_records = [[4,5,3,5,6,5,3,4,1,3,4,5],[2,3,4,3,1,2,0,3,2,5,7,2], \n",
        "           [1,3,0,3,3,4,5,6,7,2,2,1],[3,2,9,2,3,5,6,6,4,6,9,9],\n",
        "           [8,7,7,5,6,7,5,8,8,6,10,9],[7,8,4,9,5,10,3,3,2,2,1,3]]"
      ],
      "metadata": {
        "id": "iaeyNiEk6PfN"
      },
      "execution_count": null,
      "outputs": []
    },
    {
      "cell_type": "code",
      "source": [
        "# 평균 계산을 위해 numpy 호출\n",
        "import numpy as np"
      ],
      "metadata": {
        "id": "sPRu_rnuAk4m"
      },
      "execution_count": null,
      "outputs": []
    },
    {
      "cell_type": "code",
      "source": [
        "def sales_management(memver_names, member_records):\n",
        "  \n",
        "  # 평균값 계산을 위한 리스트 생성 \n",
        "  avg_records = []\n",
        "  for i in range(len(member_records)):\n",
        "    avg_records.append(np.mean(member_records[i]))\n",
        "\n",
        "  # 멤버의 이름과 실적을 하나의 dictionary로 병합\n",
        "  records = dict(zip(avg_records, member_names))\n",
        "\n",
        "  # 평균 점수를 기준으로 오름차순/내림차순 정렬한 두 개의 리스트 생성\n",
        "  bonus = sorted(records.items(), key = lambda x:x[0])\n",
        "  interview = sorted(records.items(), key = lambda x:x[0], reverse=True)\n",
        "\n",
        "\n",
        "  # bonus: 평균 실적이 5보다 큰 사람이 보너스 대상자\n",
        "  for i in range(len(bonus)):\n",
        "    if bonus[i][0] > 5:\n",
        "      print(f'보너스 대상자 {bonus[i][1]}')\n",
        "\n",
        "  print()\n",
        "\n",
        "  # interview: 앞에서 2번째까지 중 평균 실적이 3보다 작거나 같은 사람이 보너스 대상자\n",
        "  for i in range(len(interview)):\n",
        "    if interview[i][0] <= 3:\n",
        "      print(f'면담 대상자 {interview[i][1]}')"
      ],
      "metadata": {
        "id": "EgHXjN2DAb8z"
      },
      "execution_count": null,
      "outputs": []
    },
    {
      "cell_type": "code",
      "source": [
        "sales_management(member_names, member_records)"
      ],
      "metadata": {
        "colab": {
          "base_uri": "https://localhost:8080/"
        },
        "id": "-QppI5jkAb6U",
        "outputId": "5d632ddf-6c32-4541-f0fb-d0ecdbb104d8"
      },
      "execution_count": null,
      "outputs": [
        {
          "output_type": "stream",
          "name": "stdout",
          "text": [
            "보너스 대상자 을순이\n",
            "보너스 대상자 병돌이\n",
            "\n",
            "면담 대상자 갑순이\n"
          ]
        }
      ]
    },
    {
      "cell_type": "markdown",
      "source": [
        "####Q3. 주식의 종목과 수익률, 종목별 수익률이 높은 순서대로 소수 둘째 자리까지 출력하는 함수 "
      ],
      "metadata": {
        "id": "gwxm23gX6Pwt"
      }
    },
    {
      "cell_type": "code",
      "source": [
        "stocks = \"삼성전자/10/85000,카카오/15/130000,LG화학/3/820000,NAVER/5/420000\"\n",
        "sells = [82000, 160000, 835000, 410000]"
      ],
      "metadata": {
        "id": "JSrhLIeF6Q1Q"
      },
      "execution_count": 71,
      "outputs": []
    },
    {
      "cell_type": "code",
      "source": [
        "def stock_profit(stocks, sells):\n",
        "  stocks = stocks.split(',')\n",
        "  stock_list = []\n",
        "  new_stock_list = []\n",
        "  for i in range(len(stocks)):\n",
        "    stock_list.append(stocks[i].split('/'))\n",
        "\n",
        "  for i in range(len(stock_list)):\n",
        "    stock_name = stock_list[i][0]\n",
        "    ratio = (sells[i] - int(stock_list[i][2])) / int(stock_list[i][2]) * 100\n",
        "\n",
        "    new_stock_list.append((stock_name, ratio))\n",
        "    new_stock_list = sorted(new_stock_list, key = lambda x:-x[1])\n",
        "\n",
        "  for i in range(len(new_stock_list)):\n",
        "    print(f'{new_stock_list[i][0]}의 수익률 {new_stock_list[i][1]:.3}')"
      ],
      "metadata": {
        "id": "3d6oX8-2TGAF"
      },
      "execution_count": 72,
      "outputs": []
    },
    {
      "cell_type": "code",
      "source": [
        "stock_profit(stocks, sells)"
      ],
      "metadata": {
        "id": "50uKkQ3ETLb4",
        "colab": {
          "base_uri": "https://localhost:8080/"
        },
        "outputId": "2676e1bb-9089-4f3d-b45d-bcfc0c51d308"
      },
      "execution_count": 73,
      "outputs": [
        {
          "output_type": "stream",
          "name": "stdout",
          "text": [
            "카카오의 수익률 23.1\n",
            "LG화학의 수익률 1.83\n",
            "NAVER의 수익률 -2.38\n",
            "삼성전자의 수익률 -3.53\n"
          ]
        }
      ]
    },
    {
      "cell_type": "markdown",
      "source": [
        "####Q4. 회원 정보를 출력하고 할인 쿠폰을 받을 회원이 누구인지 출력하는 함수\n",
        "- 조건 1: 8회 이상 구매한 회원이 VIP 대상\n",
        "- 조건 2: 전화번호가 없으면 쿠폰을 받을 수 없음\n",
        "- 조건 3: 전화번호가 없으면 000-0000-0000으로 출력할 것\n"
      ],
      "metadata": {
        "id": "Tg48ESWM6Q-J"
      }
    },
    {
      "cell_type": "code",
      "source": [
        "# 6명의 회원이고 \"아이디,나이,전화번호,성별,지역,구매횟수\" 순서로 입력되어 있음\n",
        "info = \"\"\"abc,21세,010-1234-5678,남자,서울,5,\n",
        "        cdb,25세,x,남자,서울,4,\n",
        "        bbc,30세,010-2222-3333,여자,서울,3,\n",
        "        ccb,29세,x,여자,경기,9,\n",
        "        dab,26세,x,남자,인천,8,\n",
        "        aab,23세,010-3333-1111,여자,경기,10\"\"\""
      ],
      "metadata": {
        "id": "SGydY6u1CDL-"
      },
      "execution_count": null,
      "outputs": []
    },
    {
      "cell_type": "code",
      "source": [
        "def good_customer(info):\n",
        "  "
      ],
      "metadata": {
        "colab": {
          "base_uri": "https://localhost:8080/",
          "height": 174
        },
        "id": "M6OBSbyxVUYi",
        "outputId": "840f70d5-6e1f-4fb3-cec7-fa765da11a26"
      },
      "execution_count": null,
      "outputs": [
        {
          "output_type": "error",
          "ename": "ValueError",
          "evalue": "ignored",
          "traceback": [
            "\u001b[0;31m---------------------------------------------------------------------------\u001b[0m",
            "\u001b[0;31mValueError\u001b[0m                                Traceback (most recent call last)",
            "\u001b[0;32m<ipython-input-16-e9aaaa7ccb4d>\u001b[0m in \u001b[0;36m<module>\u001b[0;34m\u001b[0m\n\u001b[0;32m----> 1\u001b[0;31m \u001b[0mdict\u001b[0m\u001b[0;34m(\u001b[0m\u001b[0minfo\u001b[0m\u001b[0;34m)\u001b[0m\u001b[0;34m\u001b[0m\u001b[0;34m\u001b[0m\u001b[0m\n\u001b[0m",
            "\u001b[0;31mValueError\u001b[0m: dictionary update sequence element #0 has length 3; 2 is required"
          ]
        }
      ]
    },
    {
      "cell_type": "code",
      "source": [
        "good_customer(info)"
      ],
      "metadata": {
        "id": "lUsdxb34VUtO"
      },
      "execution_count": null,
      "outputs": []
    }
  ]
}